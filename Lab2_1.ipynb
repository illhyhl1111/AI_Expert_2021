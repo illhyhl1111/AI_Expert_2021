{
  "nbformat": 4,
  "nbformat_minor": 0,
  "metadata": {
    "colab": {
      "name": "Lab2_1.ipynb",
      "provenance": [],
      "include_colab_link": true
    },
    "kernelspec": {
      "name": "python3",
      "display_name": "Python 3"
    },
    "accelerator": "GPU"
  },
  "cells": [
    {
      "cell_type": "markdown",
      "metadata": {
        "id": "view-in-github",
        "colab_type": "text"
      },
      "source": [
        "<a href=\"https://colab.research.google.com/github/illhyhl1111/AI_Expert_2021/blob/main/Lab2_1.ipynb\" target=\"_parent\"><img src=\"https://colab.research.google.com/assets/colab-badge.svg\" alt=\"Open In Colab\"/></a>"
      ]
    },
    {
      "cell_type": "markdown",
      "metadata": {
        "id": "USu2ano8Faa7"
      },
      "source": [
        "# Logic Gate Example#2"
      ]
    },
    {
      "cell_type": "code",
      "metadata": {
        "id": "ZUXDU3sqDfON"
      },
      "source": [
        "import torch\n",
        "import torch.nn as nn\n",
        "from torch.optim import Adam\n",
        "from torch.utils.data.dataset import Dataset\n",
        "from torch.utils.data import DataLoader\n",
        "import numpy as np\n",
        "import matplotlib.pyplot as plt"
      ],
      "execution_count": null,
      "outputs": []
    },
    {
      "cell_type": "code",
      "metadata": {
        "id": "7XRwGmEuFp-0"
      },
      "source": [
        "class Separator(nn.Module):\n",
        "  def __init__(self):\n",
        "    super(Separator, self).__init__()\n",
        "    self.fc1 = nn.Linear(2, 4)\n",
        "    self.fc2 = nn.Linear(4, 1)\n",
        "  \n",
        "  def forward(self, x):\n",
        "    x = self.fc1(x)\n",
        "    x = nn.functional.relu(x)\n",
        "    x = self.fc2(x)\n",
        "    x = torch.sigmoid(x)\n",
        "    return x"
      ],
      "execution_count": null,
      "outputs": []
    },
    {
      "cell_type": "code",
      "metadata": {
        "id": "1CqmxX7MHRqr"
      },
      "source": [
        "class DataGenerator(Dataset):\n",
        "  def __init__(self, type_, length, std=0.08):\n",
        "    self.length = length\n",
        "    if type_ == 'and':\n",
        "      self.val_l = [0, 0, 0, 1]\n",
        "    elif type_ == 'or':\n",
        "      self.val_l = [0, 1, 1, 1]\n",
        "    elif type_ == 'xor':\n",
        "      self.val_l = [0, 1, 1, 0]\n",
        "    else:\n",
        "      self.val_l = [0, 0, 0, 0]\n",
        "     \n",
        "    self.dataset = []\n",
        "    for i in range(length):\n",
        "      x = np.random.normal(i%2, std)\n",
        "      y = np.random.normal((i//2)%2, std)\n",
        "      val = self.val_l[i%4]\n",
        "      self.dataset.append((x, y, val))\n",
        "      \n",
        "  def get_dataset(self):\n",
        "    return self.dataset\n",
        "    \n",
        "  def __len__(self):\n",
        "    return self.length\n",
        "    \n",
        "  def __getitem__(self, idx):\n",
        "    x, y, val = self.dataset[idx]\n",
        "    return (torch.Tensor([x, y]), torch.Tensor([val]))"
      ],
      "execution_count": null,
      "outputs": []
    },
    {
      "cell_type": "code",
      "metadata": {
        "id": "WZgNCHs4IF9L"
      },
      "source": [
        "DATASET = DataGenerator('xor', 1000)\n",
        "lr = 0.1 # learning rate\n",
        "batch_size = 20\n",
        "num_epochs = 10\n",
        "num_workers = 4\n",
        "graph_x = np.linspace(-1.0, 2, 2)\n",
        "\n",
        "params = {\n",
        "    'batch_size' : batch_size,\n",
        "    'shuffle' : True,\n",
        "    'num_workers' : num_workers\n",
        "}\n",
        "\n",
        "dataloader = DataLoader(DATASET, **params)\n",
        "model = Separator().cuda()\n",
        "optimizer = Adam(model.parameters(), lr=lr)\n",
        "\n"
      ],
      "execution_count": null,
      "outputs": []
    },
    {
      "cell_type": "code",
      "metadata": {
        "id": "1crD9BAMIuCz"
      },
      "source": [
        "def show(model):\n",
        "  for item in DATASET.get_dataset():\n",
        "    x, y, val = item\n",
        "    if val == 1:\n",
        "      plt.scatter(x, y, c='red', s=10)\n",
        "    else:\n",
        "      plt.scatter(x, y, c='blue', s=10)\n",
        "  for x in np.arange(-0.2, 1.2, 0.05):\n",
        "    for y in np.arange(-0.2, 1.2, 0.05):\n",
        "      val = model(torch.Tensor([x, y]).cuda())\n",
        "      val = val.data.tolist()[0]\n",
        "      plt.scatter(x, y, c=[[val, 0, 1-val]], s=2)\n",
        "  plt.show()\n",
        "\n",
        "show(model)\n",
        "for epoch in range(num_epochs):\n",
        "  total_loss = 0\n",
        "  for x, val in dataloader:\n",
        "    x = x.cuda()\n",
        "    val = val.cuda()\n",
        "    optimizer.zero_grad()\n",
        "    val_ =  model(x)\n",
        "    loss = torch.sum(torch.pow(val - val_, 2))\n",
        "    \n",
        "    loss.backward()\n",
        "    optimizer.step()\n",
        "    total_loss += loss.item()\n",
        "  print(\"Loss : {:.5f}\".format(total_loss / len(DATASET)))\n",
        "  \n",
        "  if epoch % 5  == 4:\n",
        "    show(model)"
      ],
      "execution_count": null,
      "outputs": []
    },
    {
      "cell_type": "code",
      "metadata": {
        "id": "7v64D5-gTgFZ"
      },
      "source": [
        ""
      ],
      "execution_count": null,
      "outputs": []
    }
  ]
}