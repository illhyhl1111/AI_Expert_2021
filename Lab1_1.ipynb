{
  "nbformat": 4,
  "nbformat_minor": 0,
  "metadata": {
    "colab": {
      "name": "Lab1_1.ipynb",
      "provenance": [],
      "collapsed_sections": [],
      "include_colab_link": true
    },
    "kernelspec": {
      "name": "python3",
      "display_name": "Python 3"
    },
    "accelerator": "GPU"
  },
  "cells": [
    {
      "cell_type": "markdown",
      "metadata": {
        "id": "view-in-github",
        "colab_type": "text"
      },
      "source": [
        "<a href=\"https://colab.research.google.com/github/illhyhl1111/AI_Expert_2021/blob/main/Lab1_1.ipynb\" target=\"_parent\"><img src=\"https://colab.research.google.com/assets/colab-badge.svg\" alt=\"Open In Colab\"/></a>"
      ]
    },
    {
      "cell_type": "markdown",
      "metadata": {
        "id": "PMuN_nEY1qFr"
      },
      "source": [
        "# Text Cell!\n",
        "* 마크다운 형식의 텍스트 셀입니다\n",
        "* docstring 등 여러 줄 주석을 효과적으로 시각화 할 수 있습니다\n",
        "* 마크다운 문법을 숙지하시고 사용하시면 좋습니다\n",
        "* https://heropy.blog/2017/09/30/markdown/"
      ]
    },
    {
      "cell_type": "code",
      "metadata": {
        "id": "s_Pu6n5i2aa7",
        "colab": {
          "base_uri": "https://localhost:8080/"
        },
        "outputId": "1bffd654-75ca-42d2-d488-ea3c8bf7cdbf"
      },
      "source": [
        "# Code Cell!\n",
        "a = 1\n",
        "b = 2\n",
        "print(a+b)\n",
        "\n",
        "# Ctrl+Enter 로 해당 코드 셀 실행"
      ],
      "execution_count": null,
      "outputs": [
        {
          "output_type": "stream",
          "text": [
            "3\n"
          ],
          "name": "stdout"
        }
      ]
    },
    {
      "cell_type": "code",
      "metadata": {
        "id": "Gm956di9_1ZQ",
        "colab": {
          "base_uri": "https://localhost:8080/"
        },
        "outputId": "fdc04e23-9f4b-4347-c731-ada860ef1159"
      },
      "source": [
        "# 각 셀은 한번에 실행할 단위를 뜻함\n",
        "# 실행 이후에도 메모리는 그대로 유지되어 다른 셀의 실행에 영향을 줌\n",
        "a += 3\n",
        "b -= 1\n",
        "print(a+b)"
      ],
      "execution_count": null,
      "outputs": [
        {
          "output_type": "stream",
          "text": [
            "5\n"
          ],
          "name": "stdout"
        }
      ]
    },
    {
      "cell_type": "markdown",
      "metadata": {
        "id": "sXmwhWyrDbGg"
      },
      "source": [
        "# 명령어 실행\n",
        "* **!(터미널 명령어)** 실행으로 터미널에서 명령어를 실행 시 출력 결과를 확인할 수 있음"
      ]
    },
    {
      "cell_type": "code",
      "metadata": {
        "id": "WM3qsQKh_3Wg",
        "colab": {
          "base_uri": "https://localhost:8080/"
        },
        "outputId": "c962dd1a-5894-46ce-be12-4bc849ec3c99"
      },
      "source": [
        "# !cat /etc/issue.net  # OS\n",
        "# !cat /proc/cpuinfo   # CPU\n",
        "# !cat /proc/meminfo   # Memory\n",
        "# !df -h               # Disk\n",
        "!nvidia-smi          # GPU"
      ],
      "execution_count": null,
      "outputs": [
        {
          "output_type": "stream",
          "text": [
            "Thu Jun 17 07:02:51 2021       \n",
            "+-----------------------------------------------------------------------------+\n",
            "| NVIDIA-SMI 465.27       Driver Version: 460.32.03    CUDA Version: 11.2     |\n",
            "|-------------------------------+----------------------+----------------------+\n",
            "| GPU  Name        Persistence-M| Bus-Id        Disp.A | Volatile Uncorr. ECC |\n",
            "| Fan  Temp  Perf  Pwr:Usage/Cap|         Memory-Usage | GPU-Util  Compute M. |\n",
            "|                               |                      |               MIG M. |\n",
            "|===============================+======================+======================|\n",
            "|   0  Tesla K80           Off  | 00000000:00:04.0 Off |                    0 |\n",
            "| N/A   67C    P8    33W / 149W |      0MiB / 11441MiB |      0%      Default |\n",
            "|                               |                      |                  N/A |\n",
            "+-------------------------------+----------------------+----------------------+\n",
            "                                                                               \n",
            "+-----------------------------------------------------------------------------+\n",
            "| Processes:                                                                  |\n",
            "|  GPU   GI   CI        PID   Type   Process name                  GPU Memory |\n",
            "|        ID   ID                                                   Usage      |\n",
            "|=============================================================================|\n",
            "|  No running processes found                                                 |\n",
            "+-----------------------------------------------------------------------------+\n"
          ],
          "name": "stdout"
        }
      ]
    },
    {
      "cell_type": "markdown",
      "metadata": {
        "id": "5wj6Tk6-ESUJ"
      },
      "source": [
        "# 구글 드라이브 연동\n",
        "* 하단 코드 실행으로 구글 드라이브 내의 문서를 Colab에서 접근 가능하도록 연동\n",
        "* 좌측 화살표 -> 파일 -> content/drive/My Drive 폴더 안에 드라이브 연동\n",
        "* 가상머신 상에서 현재 경로는 `/content`"
      ]
    },
    {
      "cell_type": "code",
      "metadata": {
        "id": "9wc_oHn9EbOv",
        "colab": {
          "base_uri": "https://localhost:8080/"
        },
        "outputId": "e678c386-f985-4abf-9889-fa3edf8c75c6"
      },
      "source": [
        "from google.colab import drive\n",
        "drive.mount('/content/drive')"
      ],
      "execution_count": null,
      "outputs": [
        {
          "output_type": "stream",
          "text": [
            "Mounted at /content/drive\n"
          ],
          "name": "stdout"
        }
      ]
    },
    {
      "cell_type": "code",
      "metadata": {
        "id": "WiEJC6wXFBOy",
        "colab": {
          "base_uri": "https://localhost:8080/"
        },
        "outputId": "f52056b9-1ec8-4660-ec9c-604238e47511"
      },
      "source": [
        "!pwd"
      ],
      "execution_count": null,
      "outputs": [
        {
          "output_type": "stream",
          "text": [
            "/content\n"
          ],
          "name": "stdout"
        }
      ]
    },
    {
      "cell_type": "code",
      "metadata": {
        "id": "SofddUjuFHLE",
        "colab": {
          "base_uri": "https://localhost:8080/"
        },
        "outputId": "b60d6c3e-bdd1-4731-8ce2-05e05c8c0da7"
      },
      "source": [
        "!ls 'drive/My Drive/Colab Notebooks'"
      ],
      "execution_count": null,
      "outputs": [
        {
          "output_type": "stream",
          "text": [
            " AI_Expert_2021\t\t Lab1_1.ipynb\t  Untitled0.ipynb\n",
            "'Copy of Lab1_1.ipynb'\t PyTorch-YOLOv3\n",
            " deep_q_learning.ipynb\t SNU_ML2019\n"
          ],
          "name": "stdout"
        }
      ]
    },
    {
      "cell_type": "markdown",
      "metadata": {
        "id": "EGGNfGx5HUQU"
      },
      "source": [
        "# Github 연동\n",
        "* 단일 .ipynb 파일을 clone 하는 방법\n",
        "  * `https://github.com/~~~` 부분을 `https://colab.research.google.com/github/~~~` 로 교체\n",
        "* 전체 repository를 clone하고 싶은 경우\n",
        "  * !git clone project.git\n",
        "  * %cd /your/desired/path\n",
        "* github repository에 파일을 올리는 방법\n",
        "  * 파일 - Github에 사본 저장 선택"
      ]
    },
    {
      "cell_type": "code",
      "metadata": {
        "id": "J4JrfB8TSfn5",
        "colab": {
          "base_uri": "https://localhost:8080/"
        },
        "outputId": "48ba6257-7341-43f5-85f2-72e96a377e02"
      },
      "source": [
        "%cd 'drive/My Drive/Colab Notebooks'\n",
        "!pwd"
      ],
      "execution_count": null,
      "outputs": [
        {
          "output_type": "stream",
          "text": [
            "/content/drive/My Drive/Colab Notebooks\n",
            "/content/drive/My Drive/Colab Notebooks\n"
          ],
          "name": "stdout"
        }
      ]
    },
    {
      "cell_type": "code",
      "metadata": {
        "id": "p7vBSIvrSos7",
        "colab": {
          "base_uri": "https://localhost:8080/"
        },
        "outputId": "ac6c718e-f8a2-42be-84f5-3a1a208c9640"
      },
      "source": [
        "!git clone https://github.com/illhyhl1111/AI_Expert_2021 test\n",
        "%cd test"
      ],
      "execution_count": null,
      "outputs": [
        {
          "output_type": "stream",
          "text": [
            "Cloning into 'test'...\n",
            "remote: Enumerating objects: 27, done.\u001b[K\n",
            "remote: Counting objects: 100% (27/27), done.\u001b[K\n",
            "remote: Compressing objects: 100% (24/24), done.\u001b[K\n",
            "remote: Total 27 (delta 8), reused 0 (delta 0), pack-reused 0\u001b[K\n",
            "Unpacking objects: 100% (27/27), done.\n",
            "/content/drive/My Drive/Colab Notebooks/test\n"
          ],
          "name": "stdout"
        }
      ]
    },
    {
      "cell_type": "code",
      "metadata": {
        "id": "IfyV1LgESz2Q",
        "colab": {
          "base_uri": "https://localhost:8080/",
          "height": 158
        },
        "outputId": "b5ee5de7-624b-493b-ee11-112815fea5c9"
      },
      "source": [
        "!git pull origin master"
      ],
      "execution_count": null,
      "outputs": [
        {
          "output_type": "stream",
          "text": [
            "remote: Enumerating objects: 12, done.\u001b[K\n",
            "remote: Counting objects: 100% (12/12), done.\u001b[K\n",
            "remote: Compressing objects: 100% (10/10), done.\u001b[K\n",
            "remote: Total 12 (delta 1), reused 3 (delta 0), pack-reused 0\u001b[K\n",
            "Unpacking objects: 100% (12/12), done.\n",
            "From https://github.com/illhyhl1111/SNU_ML2019\n",
            " * branch            master     -> FETCH_HEAD\n",
            " * [new branch]      master     -> origin/master\n"
          ],
          "name": "stdout"
        }
      ]
    }
  ]
}